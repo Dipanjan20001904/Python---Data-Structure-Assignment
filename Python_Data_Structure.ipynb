{
  "nbformat": 4,
  "nbformat_minor": 0,
  "metadata": {
    "colab": {
      "provenance": []
    },
    "kernelspec": {
      "name": "python3",
      "display_name": "Python 3"
    },
    "language_info": {
      "name": "python"
    }
  },
  "cells": [
    {
      "cell_type": "markdown",
      "source": [
        "#Python - Data Structure"
      ],
      "metadata": {
        "id": "h6642sWS7HEG"
      }
    },
    {
      "cell_type": "markdown",
      "source": [
        "1. What are data structures, and why are they important?\n",
        "\n",
        "- Data structures are specialized ways of organizing and storing data in a computer so that it can be accessed and used efficiently.They define how data is arranged, the relationships between data elements, and the operations that can be performed on the data.\n",
        "\n",
        "- Data strauctures are important because -\n",
        "\n",
        "a) Efficiency: Data structures enable efficient data storage and retrieval. Choosing the right data structure for a task significantly impacts the performance of an algorithm.\n",
        "\n",
        "b) Organization: They provide a structured and organized way to manage data, making it easier to search, modify, and access information.\n",
        "\n",
        "c) Reusability: Well-designed data structures can be reused across different parts of a program or in entirely different projects.\n",
        "\n",
        "2. Explain the difference between mutable and immutable data types with examples.\n",
        "\n",
        "- Mutable Data Types :\n",
        "\n",
        "Definition: Mutable data types are those whose values can be changed after they are created. This means you can modify the internal state of the object without creating a new one.  Examples: Lists, Dictionaries, Sets.\n",
        "\n",
        "- Immutable Data Types:\n",
        "\n",
        "Definition: Immutable data types are those whose values cannot be changed after they are created.\n",
        "Examples: Numbers, Strings, Tuples.\n",
        "\n",
        "3. What are the main differences between lists and tuples in Python?\n",
        "\n",
        "- Mutability:\n",
        "\n",
        "Lists: Mutable - You can change their elements after creation (add, remove, modify).\n",
        "\n",
        "Tuples: Immutable - Once created, their elements cannot be changed.\n",
        "\n",
        "- Syntax:\n",
        "\n",
        "Lists: Defined using square brackets [] ([my_list = [1, 2, 3]).\n",
        "\n",
        "Tuples: Defined using parentheses () (my_tuple = (1, 2, 3)).\n",
        "\n",
        "- Operations:\n",
        "\n",
        "Lists: Support a wider range of operations like append, insert, remove, pop, etc., for modifying their contents.\n",
        "\n",
        "Tuples: Have limited operations mainly focused on accessing elements and checking membership.\n",
        "\n",
        "- Memory and Performance:\n",
        "\n",
        "Lists: Can be less efficient, especially for large datasets, due to the overhead of mutability.\n",
        "\n",
        "Tuples: Generally more memory-efficient and faster for iteration due to their immutability.\n",
        "\n",
        "- Use Cases:\n",
        "\n",
        "Lists: Suitable for storing collections of data that may need to be modified, such as a list of tasks or student records.\n",
        "\n",
        "Tuples: Ideal for representing fixed collections of data where immutability is desired, like coordinates or database records.\n",
        "\n",
        "4. Describe how dictionaries store data.\n",
        "\n",
        "- Dictionaries are efficient and flexible data structures for storing and retrieving data using key-value pairs.\n",
        "\n",
        "Key-Value Pairs:\n",
        "\n",
        "- Dictionaries store data in the form of key-value pairs.\n",
        "- Each key is unique and associated with a value.\n",
        "- Keys are used to access their corresponding values.\n",
        "\n",
        "Hash Table Implementation:\n",
        "\n",
        "- Python dictionaries are implemented using a hash table data structure.\n",
        "- This allows for efficient lookup, insertion, and deletion of elements.\n",
        "- When you store a key-value pair, Python calculates a hash value for the key and uses it to determine the location in the hash table where the value will be stored.\n",
        "\n",
        "Accessing Values:\n",
        "\n",
        "- To access a value, you use the corresponding key within square brackets  [ ]:\n",
        "\n",
        "my_dict = {'name': 'Dip', 'age': 30}\n",
        "   print(my_dict['name'])   \n",
        "Output: Dip\n",
        "\n",
        "Adding and Modifying Entries:\n",
        "\n",
        "- You can add new key-value pairs or modify existing ones using assignment:\n",
        "\n",
        "my_dict = {'name': 'Dip', 'age': 30}\n",
        "my_dict['name']= 'Ajay'  \n",
        "Output: 'name': 'Ajay', 'age': 30\n",
        "\n",
        "- Unordered: Dictionaries do not maintain any specific order of elements.\n",
        "-Mutable: You can change the contents of a dictionary after it's created.\n",
        "- Keys must be immutable: You can use numbers, strings, or tuples as keys, but not lists or other mutable objects.\n",
        "- Values can be any type: Values can be numbers, strings, lists, other dictionaries, or any other Python object.\n",
        "\n",
        "5. Why might you use a set instead of a list in Python?\n",
        "\n",
        "- Sets are optimized for membership testing:\n",
        "\n",
        "Example:  Imagine you have a large collection of items, and you frequently need to check if a specific item is present.\n",
        "Sets extremely fast and efficient, even for large datasets.  \n",
        "\n",
        "Lists, on the other hand, require a linear search, which can be slower for large lists.\n",
        "\n",
        "- Sets automatically eliminate duplicates:\n",
        "\n",
        "Example: You're working with data that might contain duplicates, and you need to ensure uniqueness.\n",
        "\n",
        "In set, any duplicate elements are automatically removed. This is helpful for tasks like finding unique visitors to a website or removing duplicate entries from a database.\n",
        "\n",
        "- Sets provide set operations:\n",
        "\n",
        "Example: You need to perform set-related operations like union, intersection, or difference.\n",
        "\n",
        "Sets have built-in methods for these operations (e.g., union, intersection, difference), making them convenient for tasks like comparing data sets or finding common elements.\n",
        "\n",
        "6. What is a string in Python, and how is it different from a list?\n",
        "\n",
        "- String\n",
        "\n",
        "In Python, a string is a sequence of characters, such as letters, numbers, and symbols, enclosed within single quotes ('Dip') or double quotes (\"1234\"). Strings are used to represent text-based data.\n",
        "\n",
        "Strings are immutable, meaning they cannot be changed after they are created. If you try to modify a string.\n",
        "\n",
        "- List\n",
        "\n",
        "A list, on the other hand, is an ordered collection of items. These items can be of any data type, including numbers, strings, or even other lists. Lists are defined using square brackets ([Banana,124,USA ]) and the items are separated by commas.\n",
        "\n",
        "Lists are mutable, meaning you can change their elements after creation. You can add, remove, or modify items in a list.\n",
        "\n",
        "7. How do tuples ensure data integrity in Python?\n",
        "\n",
        "- Tuples in Python are immutable, which means their elements cannot be changed after they are created. This immutability is the main factor contributing to data integrity.\n",
        "\n",
        "- Data Consistency: Because tuples are immutable, you can be confident that the data stored within them will remain consistent throughout your program's execution. This is especially important when dealing with sensitive or critical information.\n",
        "\n",
        "- Safe Sharing: Tuples can be safely shared between different parts of your code without the risk of them being modified unexpectedly. This promotes code stability and reduces the potential for errors.\n",
        "\n",
        "- Use as Dictionary Keys: In Python, only immutable objects can be used as dictionary keys. Since tuples are immutable, they can serve as keys in dictionaries, providing a reliable way to organize and access data.\n",
        "\n",
        "8. What is a hash table, and how does it relate to dictionaries in Python?\n",
        "\n",
        "- A hash table is a data structure that stores data in key-value pairs, where each key is unique and is used to access its corresponding value. It works by using a hash function to compute an index into an array of buckets or slots, from which the desired value can be found.\n",
        "\n",
        "- Python dictionaries are implemented using hash tables. This means that when you store a key-value pair in a dictionary, Python uses a hash function to calculate an index in the underlying hash table where the value will be stored.\n",
        "\n",
        "9. Can lists contain different data types in Python?\n",
        "\n",
        "- Lists in Python are heterogeneous, meaning they can store elements of different data types within the same list.\n",
        "\n",
        "10. Explain why strings are immutable in Python?\n",
        "\n",
        "- In Python, strings are immutable, which means their contents cannot be changed after they are created.\n",
        "\n",
        "a. Performance and Memory Efficiency:\n",
        "\n",
        "Sharing: Immutable strings can be shared across multiple variables without the risk of one variable's modification affecting others. This sharing reduces memory usage and improves performance, especially when dealing with large strings.\n",
        "\n",
        "Hashing: Immutability allows strings to be used as dictionary keys because their hash value remains constant. Hash tables rely on the immutability of keys to ensure efficient lookup and retrieval of data.\n",
        "\n",
        "b. Security and Thread Safety:\n",
        "\n",
        "Predictability: Immutability ensures that a string's value remains consistent throughout its lifetime, making code more predictable and easier to debug.\n",
        "\n",
        "Thread Safety: In multi-threaded environments, immutable strings can be safely shared between threads without the need for complex synchronization mechanisms. This simplifies concurrent programming and reduces the risk of data corruption.\n",
        "\n",
        "c. Caching:\n",
        "\n",
        "Optimization: Frequently used strings can be cached for faster access.\n",
        "\n",
        "11. What advantages do dictionaries offer over lists for certain tasks?\n",
        "\n",
        "- Dictionaries offer several advantages over lists for certain tasks, including faster lookups, easier code reading, and more flexibility when storing data.\n",
        "\n",
        " a. Faster lookups\n",
        "Dictionaries are faster to look up values in than lists. This is because dictionaries use hash tables, which allows for constant-time lookups.\n",
        "\n",
        "lists have linear time complexity, which means that the time it takes to look up a value increases as the number of elements in the list increases.\n",
        "\n",
        " b. Easier code reading\n",
        "Dictionaries make code easier to read when generating key:value pairs.\n",
        "\n",
        "For example, if you want to store a list of friend's phone numbers, you can create a dictionary where the phone number is the key and the name is the value.\n",
        "\n",
        " c. More flexibility\n",
        "Dictionaries are more flexible than lists when storing data because each entry is stored as a key:value pair.\n",
        "This allows you to quickly access a value associated with a unique key.\n",
        "\n",
        "12. Describe a scenario where using a tuple would be preferable over a list.\n",
        "\n",
        "- You're creating a database of Aadhaar Card. You want to store unique numbers of Indians, and you know that these numbers should not be changed once the database is created.\n",
        "\n",
        "Reasons to use tuple over list:\n",
        "\n",
        "Immutability: Tuples are immutable, meaning their elements cannot be modified after creation.\n",
        "\n",
        "Data Integrity: Tuples provide data integrity by guaranteeing that the values stored within them will not be changed. This is crucial for representing fixed data like numbers, where any alteration could compromise the accuracy of the information.\n",
        "\n",
        "Efficiency: Tuples can be slightly more efficient than lists in terms of memory usage and performance. Since they are immutable, Python can optimize their storage and access, making them potentially faster for certain operations.\n",
        "\n",
        "13. How do sets handle duplicate values in Python?\n",
        "\n",
        "- Sets automatically eliminate duplicates.Sets are implemented using a hash table data structure, which ensures that each element in the set is unique. When you add an element to a set, Python calculates its hash value and uses it to determine the element's position in the hash table. If an element with the same hash value already exists in the set, Python recognizes it as a duplicate and does not add it again.\n",
        "\n",
        "Example:\n",
        "\n",
        "my_set = {1, 1, 2, 2, 3, 3, 3, 4}\n",
        "\n",
        "print(my_set)   \n",
        "\n",
        "Output: {1, 2, 3, 4}\n",
        "\n",
        "14. How does the “in” keyword work differently for lists and dictionaries?\n",
        "\n",
        "- Lists: The in keyword checks for membership, meaning it determines if a given value is present as an element within the list.\n",
        "\n",
        "Example:\n",
        "\n",
        "my_list = [1, 2, 3, 4, 5]\n",
        "\n",
        "print(4 in my_list) >>> Output: True\n",
        "print(9 in my_list) >>> Output: False\n",
        "\n",
        "- Dictionaries: The in keyword checks for the presence of a key within the dictionary.\n",
        "\n",
        "Example:\n",
        "\n",
        "my_dict = {'a': 1, 'b': 2, 'c': 3}\n",
        "\n",
        "print('a' in my_dict)   >>> Output: True\n",
        "print('d' in my_dict)   >>> Output: False\n",
        "\n",
        "15. Can you modify the elements of a tuple? Explain why or why not?\n",
        "\n",
        "- No, we can not modify elements in a tuple.\n",
        "- We can not modify elements in tuples because :\n",
        "\n",
        "a) Immutability ensures that the data stored within a tuple remains consistent throughout its lifetime. This is crucial for representing fixed data structures or sensitive information that should not be altered accidentally.\n",
        "\n",
        "b) Tuples can be used as dictionary keys because they are immutable.\n",
        "\n",
        "c) Tuples can offer slight performance advantages in certain scenarios due to their immutability. Since their size and contents are fixed, Python can optimize their storage and access, potentially making them faster for some operations.\n",
        "\n",
        "** But we can modify a tuple by converting it to a list.\n",
        "\n",
        "\n",
        ""
      ],
      "metadata": {
        "id": "DsZVFClCHRYR"
      }
    },
    {
      "cell_type": "code",
      "execution_count": 1,
      "metadata": {
        "id": "0rMd5VXF7AKR"
      },
      "outputs": [],
      "source": [
        "my_tuple = (1, 2, 3)"
      ]
    },
    {
      "cell_type": "code",
      "source": [
        "my_list = list(my_tuple)\n",
        "my_list[0] = 4\n",
        "new_tuple = tuple(my_list)"
      ],
      "metadata": {
        "id": "EDgVb227awAa"
      },
      "execution_count": 2,
      "outputs": []
    },
    {
      "cell_type": "code",
      "source": [
        "print(new_tuple)"
      ],
      "metadata": {
        "colab": {
          "base_uri": "https://localhost:8080/"
        },
        "id": "wMSDdn8Ma_-Q",
        "outputId": "3c4a852f-a4fd-4d38-cee6-1a88ce6ddda4"
      },
      "execution_count": 4,
      "outputs": [
        {
          "output_type": "stream",
          "name": "stdout",
          "text": [
            "(4, 2, 3)\n"
          ]
        }
      ]
    },
    {
      "cell_type": "code",
      "source": [
        "type(new_tuple)"
      ],
      "metadata": {
        "colab": {
          "base_uri": "https://localhost:8080/"
        },
        "id": "k455ComMbG8S",
        "outputId": "fb2e23f1-5006-4222-eb15-5a443411652f"
      },
      "execution_count": 5,
      "outputs": [
        {
          "output_type": "execute_result",
          "data": {
            "text/plain": [
              "tuple"
            ]
          },
          "metadata": {},
          "execution_count": 5
        }
      ]
    },
    {
      "cell_type": "markdown",
      "source": [
        "16.  What is a nested dictionary, and give an example of its use case?\n",
        "- A nested dictionary is simply a dictionary within another dictionary. It's a way to organize data in a structure, where the values of a dictionary can themselves be dictionaries.\n",
        "\n",
        "Example: We  want to store information about students in a class, including their names, grades in different subjects, and contact details. A nested dictionary would be required:\n"
      ],
      "metadata": {
        "id": "ul99WKx7bWZH"
      }
    },
    {
      "cell_type": "code",
      "source": [
        "student_data = {'Ram': {'grades': {'Math': 90, 'Science': 85}, 'contact': {'email': 'ram@example.com', 'phone': '123-456-7890'}},\n",
        "                'Shyam': {'grades': {'Math': 80, 'Science': 92}, 'contact': {'email': 'shyam@example.com', 'phone': '987-654-3210'}}}\n",
        ""
      ],
      "metadata": {
        "id": "TDKGfUoEgznC"
      },
      "execution_count": 6,
      "outputs": []
    },
    {
      "cell_type": "code",
      "source": [
        "# Now if we need to access Ram's contact number:\n",
        "\n",
        "ram_contact_no = student_data['Ram']['contact']['phone']\n",
        "print(ram_contact_no)"
      ],
      "metadata": {
        "colab": {
          "base_uri": "https://localhost:8080/"
        },
        "id": "tZYocztYhNri",
        "outputId": "909f9e3c-8900-45e1-acba-61737ca925bb"
      },
      "execution_count": 12,
      "outputs": [
        {
          "output_type": "stream",
          "name": "stdout",
          "text": [
            "123-456-7890\n"
          ]
        }
      ]
    },
    {
      "cell_type": "code",
      "source": [],
      "metadata": {
        "id": "wAapCavthgr5"
      },
      "execution_count": null,
      "outputs": []
    },
    {
      "cell_type": "markdown",
      "source": [
        "17. Describe the time complexity of accessing elements in a dictionary.\n",
        "\n",
        "- The time complexity of accessing an element in a Python dictionary is O(1) on average, which means it's very fast. However, the worst-case time complexity is O(n)if there are many collisions.\n",
        "\n",
        "- Time complexity: Time complexity is a measure of how much time an algorithm takes to run. It's usually expressed as a function of the size of the input.\n",
        "\n",
        "18. In what situations are lists preferred over dictionaries.\n",
        "\n",
        "- Lists maintain the order of elements as they are inserted. If the order of data is important for any task (e.g., representing a sequence of events, storing items in a specific order), then lists are the better choice. Dictionaries, on the other hand, do not preserve order.\n",
        "-Lists allow efficient access to elements using their index (position in the list). If we need to frequently access elements based on their position (e.g., getting the first element, the last element, or an element at a specific index), lists are more convenient. Dictionaries are accessed using keys, not numerical indices.\n",
        "- Lists can store duplicate values without any restrictions. If the data might contain duplicates and we need to keep them, lists are the appropriate choice. Dictionaries require unique keys, and duplicate values would overwrite previous entries.\n",
        "\n",
        "19. Why are dictionaries considered unordered, and how does that affect data retrieval?\n",
        "\n",
        "- Dictionaries in Python are unordered because of their underlying implementation using hash tables.\n",
        "\n",
        "The unordered nature of dictionaries affects data retrieval:\n",
        "\n",
        "a) When you iterate over a dictionary (using a for loop), the order in which elements are retrieved is not guaranteed to be the same as the insertion order. This is because iteration is based on the internal structure of the hash table, which is not designed to preserve order.\n",
        "\n",
        "b) You cannot rely on the order of elements when accessing them using methods like keys(), values(), or items(). The order in which these methods return elements is not guaranteed to be consistent.\n",
        "\n",
        "20.  Explain the difference between a list and a dictionary in terms of data retrieval.\n",
        "\n",
        "- A list is an ordered collection of items, whereas a dictionary is an unordered data collection in a key- value pair.\n",
        "- Elements from the list can be accessed using the index, while the elements of the dictionary can be accessed using keys."
      ],
      "metadata": {
        "id": "VLJ7pbpSicVA"
      }
    },
    {
      "cell_type": "markdown",
      "source": [
        "# Practical Questions\n"
      ],
      "metadata": {
        "id": "GsVgnkMyotHI"
      }
    },
    {
      "cell_type": "code",
      "source": [
        "# 1. Write a code to create a string with your name and print it.\n",
        "\n",
        "My_name =(\"Dipanjan Dutta\")\n",
        "print(My_name)"
      ],
      "metadata": {
        "colab": {
          "base_uri": "https://localhost:8080/"
        },
        "id": "hQV4_PSRo0iY",
        "outputId": "cd7d8358-3f35-4e1d-cd54-b53c905f023d"
      },
      "execution_count": 14,
      "outputs": [
        {
          "output_type": "stream",
          "name": "stdout",
          "text": [
            "Dipanjan Dutta\n"
          ]
        }
      ]
    },
    {
      "cell_type": "code",
      "source": [
        "# 2. Write a code to find the length of the string \"Hello World\".\n",
        "\n",
        "a=(\"Hello World\")\n",
        "length= len(a)\n",
        "print(length)\n"
      ],
      "metadata": {
        "colab": {
          "base_uri": "https://localhost:8080/"
        },
        "id": "KQRdZ78ZpSUc",
        "outputId": "9df0a14b-b9e9-4a1d-fd44-ec315328aa44"
      },
      "execution_count": 16,
      "outputs": [
        {
          "output_type": "stream",
          "name": "stdout",
          "text": [
            "11\n"
          ]
        }
      ]
    },
    {
      "cell_type": "code",
      "source": [
        "# 3. Write a code to slice the first 3 characters from the string \"Python Programming\"\n",
        "\n",
        "a = \"Python Programming\"\n",
        "sliced_string = a[:3]\n",
        "print(sliced_string)"
      ],
      "metadata": {
        "colab": {
          "base_uri": "https://localhost:8080/"
        },
        "id": "tgnB8BmjqBOT",
        "outputId": "0740accd-dd72-49f3-d4f7-d1799891b24d"
      },
      "execution_count": 19,
      "outputs": [
        {
          "output_type": "stream",
          "name": "stdout",
          "text": [
            "Pyt\n"
          ]
        }
      ]
    },
    {
      "cell_type": "code",
      "source": [
        "# 4. Write a code to convert the string \"hello\" to uppercase.\n",
        "a=\"hello\"\n",
        "upper_case_of_a= a.upper()\n",
        "print(upper_case_of_a)\n"
      ],
      "metadata": {
        "colab": {
          "base_uri": "https://localhost:8080/"
        },
        "id": "7Tw4UaOOqXlf",
        "outputId": "2d7a6942-65b2-4303-db20-5febe750ec53"
      },
      "execution_count": 32,
      "outputs": [
        {
          "output_type": "stream",
          "name": "stdout",
          "text": [
            "HELLO\n"
          ]
        }
      ]
    },
    {
      "cell_type": "code",
      "source": [
        "# 5. Write a code to replace the word \"apple\" with \"orange\" in the string \"I like apple\".\n",
        "\n",
        "a= \"I like apple.\"\n",
        "b= a.replace(\"apple\", \"orange\")  # Using the replace() method\n",
        "print(b)\n",
        "\n"
      ],
      "metadata": {
        "colab": {
          "base_uri": "https://localhost:8080/"
        },
        "id": "XTJxqNYLq-MC",
        "outputId": "61532038-2f07-4ebf-c5b3-ef71c92e8c75"
      },
      "execution_count": 22,
      "outputs": [
        {
          "output_type": "stream",
          "name": "stdout",
          "text": [
            "I like orange.\n"
          ]
        }
      ]
    },
    {
      "cell_type": "code",
      "source": [
        "# 6. Write a code to create a list with numbers 1 to 5 and print it.\n",
        "\n",
        "num_list = [1, 2, 3, 4, 5]\n",
        "print(num_list)"
      ],
      "metadata": {
        "colab": {
          "base_uri": "https://localhost:8080/"
        },
        "id": "oQal7_wAreXf",
        "outputId": "362b0100-fc73-4e33-ad28-edd042b26520"
      },
      "execution_count": 25,
      "outputs": [
        {
          "output_type": "stream",
          "name": "stdout",
          "text": [
            "[1, 2, 3, 4, 5]\n"
          ]
        }
      ]
    },
    {
      "cell_type": "code",
      "source": [
        "# 7. Write a code to append the number 10 to the list [1, 2, 3, 4].\n",
        "num_list = [1, 2, 3, 4,]\n",
        "num_list.append(10)\n",
        "print(num_list)"
      ],
      "metadata": {
        "colab": {
          "base_uri": "https://localhost:8080/"
        },
        "id": "1ZRgjgx6sLww",
        "outputId": "b7849df0-98ab-4d81-8fb7-9afbfabe05c2"
      },
      "execution_count": 26,
      "outputs": [
        {
          "output_type": "stream",
          "name": "stdout",
          "text": [
            "[1, 2, 3, 4, 10]\n"
          ]
        }
      ]
    },
    {
      "cell_type": "code",
      "source": [
        "# 8. Write a code to remove the number 3 from the list [1, 2, 3, 4, 5].\n",
        "\n",
        "num_list = [1, 2, 3, 4, 5]\n",
        "num_list.remove(3)\n",
        "print(num_list)"
      ],
      "metadata": {
        "colab": {
          "base_uri": "https://localhost:8080/"
        },
        "id": "Tq_Nd_DWshok",
        "outputId": "51f2c1ff-6f61-4f94-dbd2-2537c6b222e6"
      },
      "execution_count": 28,
      "outputs": [
        {
          "output_type": "stream",
          "name": "stdout",
          "text": [
            "[1, 2, 4, 5]\n"
          ]
        }
      ]
    },
    {
      "cell_type": "code",
      "source": [
        "# 9. Write a code to access the second element in the list ['a', 'b', 'c', 'd']\n",
        "\n",
        "new_list=['a', 'b', 'c', 'd']\n",
        "new_list[-3]"
      ],
      "metadata": {
        "colab": {
          "base_uri": "https://localhost:8080/",
          "height": 36
        },
        "id": "gnM782vzsrLc",
        "outputId": "5f51133a-6a3f-4321-a99d-cb6c1de9b697"
      },
      "execution_count": 38,
      "outputs": [
        {
          "output_type": "execute_result",
          "data": {
            "text/plain": [
              "'b'"
            ],
            "application/vnd.google.colaboratory.intrinsic+json": {
              "type": "string"
            }
          },
          "metadata": {},
          "execution_count": 38
        }
      ]
    },
    {
      "cell_type": "code",
      "source": [
        "new_list=['a', 'b', 'c', 'd']\n",
        "new_list[1]"
      ],
      "metadata": {
        "colab": {
          "base_uri": "https://localhost:8080/",
          "height": 36
        },
        "id": "F8rT1CGLxRNq",
        "outputId": "b1bd18c5-abf5-433e-a951-bbb83ed6d317"
      },
      "execution_count": 39,
      "outputs": [
        {
          "output_type": "execute_result",
          "data": {
            "text/plain": [
              "'b'"
            ],
            "application/vnd.google.colaboratory.intrinsic+json": {
              "type": "string"
            }
          },
          "metadata": {},
          "execution_count": 39
        }
      ]
    },
    {
      "cell_type": "code",
      "source": [
        "# 10. Write a code to reverse the list [10, 20, 30, 40, 50].\n",
        "a= [10, 20, 30, 40, 50]\n",
        "a.reverse()\n",
        "print(a)"
      ],
      "metadata": {
        "colab": {
          "base_uri": "https://localhost:8080/"
        },
        "id": "p3I4pmGGxyUH",
        "outputId": "a1a92e10-9725-4ca0-dc6e-7d9cdc9986d1"
      },
      "execution_count": 1,
      "outputs": [
        {
          "output_type": "stream",
          "name": "stdout",
          "text": [
            "[50, 40, 30, 20, 10]\n"
          ]
        }
      ]
    },
    {
      "cell_type": "code",
      "source": [
        "# 11/18. Write a code to create a tuple with the elements 10, 20, 30 and print it.\n",
        "\n",
        "a_tuple=(10,20,30)\n",
        "print(a_tuple)\n",
        "print(type(a_tuple))"
      ],
      "metadata": {
        "colab": {
          "base_uri": "https://localhost:8080/"
        },
        "id": "4f0PaJQqyPQH",
        "outputId": "0fa9b9ad-3168-41ae-a8b3-ccb33631901e"
      },
      "execution_count": 3,
      "outputs": [
        {
          "output_type": "stream",
          "name": "stdout",
          "text": [
            "(10, 20, 30)\n",
            "<class 'tuple'>\n"
          ]
        }
      ]
    },
    {
      "cell_type": "code",
      "source": [
        "# 12. Write a code to access the first element of the tuple ('apple', 'banana', 'cherry').\n",
        "\n",
        "a= ('apple', 'banana', 'cherry')\n",
        "a[0]"
      ],
      "metadata": {
        "colab": {
          "base_uri": "https://localhost:8080/",
          "height": 36
        },
        "id": "7D5Qxp-LzgLA",
        "outputId": "90ff8922-80af-418d-bc37-1d7e36674f7e"
      },
      "execution_count": 6,
      "outputs": [
        {
          "output_type": "execute_result",
          "data": {
            "text/plain": [
              "'apple'"
            ],
            "application/vnd.google.colaboratory.intrinsic+json": {
              "type": "string"
            }
          },
          "metadata": {},
          "execution_count": 6
        }
      ]
    },
    {
      "cell_type": "code",
      "source": [
        "a[-3]"
      ],
      "metadata": {
        "colab": {
          "base_uri": "https://localhost:8080/",
          "height": 36
        },
        "id": "p8DPsNEuz4os",
        "outputId": "cd82276b-d478-4494-80e8-04db32537e99"
      },
      "execution_count": 7,
      "outputs": [
        {
          "output_type": "execute_result",
          "data": {
            "text/plain": [
              "'apple'"
            ],
            "application/vnd.google.colaboratory.intrinsic+json": {
              "type": "string"
            }
          },
          "metadata": {},
          "execution_count": 7
        }
      ]
    },
    {
      "cell_type": "code",
      "source": [
        "# 13. Write a code to count how many times the number 2 appears in the tuple (1, 2, 3, 2, 4, 2).\n",
        "a=(1, 2, 3, 2, 4, 2)\n",
        "b= a.count(2)\n",
        "print(b)"
      ],
      "metadata": {
        "colab": {
          "base_uri": "https://localhost:8080/"
        },
        "id": "ONFPyEIa0RpM",
        "outputId": "806ac0f5-c7a6-4aa4-933b-8b6588f7d86b"
      },
      "execution_count": 9,
      "outputs": [
        {
          "output_type": "stream",
          "name": "stdout",
          "text": [
            "3\n"
          ]
        }
      ]
    },
    {
      "cell_type": "code",
      "source": [
        "# 14. Write a code to find the index of the element \"cat\" in the tuple ('dog', 'cat', 'rabbit').\n",
        "a= ('dog', 'cat', 'rabbit')\n",
        "b= a.index('cat')\n",
        "print(b)"
      ],
      "metadata": {
        "colab": {
          "base_uri": "https://localhost:8080/"
        },
        "id": "1FkHn2Kr1YY8",
        "outputId": "d7556fd1-0416-42cc-f8ac-f6b0ed9235ba"
      },
      "execution_count": 10,
      "outputs": [
        {
          "output_type": "stream",
          "name": "stdout",
          "text": [
            "1\n"
          ]
        }
      ]
    },
    {
      "cell_type": "code",
      "source": [
        "# 15. Write a code to check if the element \"banana\" is in the tuple ('apple', 'orange', 'banana').\n",
        "\n",
        "a= ('apple', 'orange', 'banana')\n",
        "print('banana'in a)"
      ],
      "metadata": {
        "colab": {
          "base_uri": "https://localhost:8080/"
        },
        "id": "CHQXH9BZ1v9t",
        "outputId": "b512a481-a65a-4fbb-8d20-5a6d6cf552a0"
      },
      "execution_count": 11,
      "outputs": [
        {
          "output_type": "stream",
          "name": "stdout",
          "text": [
            "True\n"
          ]
        }
      ]
    },
    {
      "cell_type": "code",
      "source": [
        "# 16. Write a code to create a set with the elements 1, 2, 3, 4, 5 and print it.\n",
        "\n",
        "a= {1, 2, 3, 4, 5}\n",
        "print(a)"
      ],
      "metadata": {
        "colab": {
          "base_uri": "https://localhost:8080/"
        },
        "id": "0qPTyUbT2ayN",
        "outputId": "206e924f-c9f5-4499-aeaa-9652f05a7c4b"
      },
      "execution_count": 12,
      "outputs": [
        {
          "output_type": "stream",
          "name": "stdout",
          "text": [
            "{1, 2, 3, 4, 5}\n"
          ]
        }
      ]
    },
    {
      "cell_type": "code",
      "source": [
        "# 17. Write a code to add the element 6 to the set {1, 2, 3, 4}.\n",
        "\n",
        "a= {1, 2, 3, 4}\n",
        "a.add(6)\n",
        "print(a)"
      ],
      "metadata": {
        "colab": {
          "base_uri": "https://localhost:8080/"
        },
        "id": "4KpvMhAj3Ehr",
        "outputId": "68649ea3-3a08-4432-fac8-df8323588325"
      },
      "execution_count": 13,
      "outputs": [
        {
          "output_type": "stream",
          "name": "stdout",
          "text": [
            "{1, 2, 3, 4, 6}\n"
          ]
        }
      ]
    }
  ]
}